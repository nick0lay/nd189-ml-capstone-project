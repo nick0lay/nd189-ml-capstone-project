{
 "cells": [
  {
   "cell_type": "markdown",
   "metadata": {},
   "source": [
    "# Domain Background"
   ]
  },
  {
   "cell_type": "markdown",
   "metadata": {},
   "source": [
    "Investment firms, hedge funds and even individuals have been using financial models to better understand market behavior and make profitable investments and trades. A wealth of information is available in the form of historical stock prices and company performance data, suitable for machine learning algorithms to process."
   ]
  },
  {
   "cell_type": "markdown",
   "metadata": {},
   "source": [
    "# Problem Statement"
   ]
  },
  {
   "cell_type": "markdown",
   "metadata": {},
   "source": [
    "Build stock price predictor which will use historical data to predict stock price for given date."
   ]
  },
  {
   "cell_type": "markdown",
   "metadata": {},
   "source": [
    "# Solution Statement"
   ]
  },
  {
   "cell_type": "markdown",
   "metadata": {},
   "source": [
    "To solve this problem different techical inicators will be used.\n",
    "\n",
    "Technical indicators:\n",
    "\n",
    " - Exponential moving average (EMA)\n",
    " - Moving Average Convergence Divergence (MACD)\n",
    " - Bollinger band\n",
    " - Momentum\n",
    " - Trading volume\n",
    "\n",
    "Use technial indicators and market data to prepare features. Price prediction is regression problem, hence for this task ML regression will be used."
   ]
  },
  {
   "cell_type": "markdown",
   "metadata": {},
   "source": [
    "# Datasets and Inputs"
   ]
  },
  {
   "cell_type": "markdown",
   "metadata": {},
   "source": [
    "There are several open sources for historical stock price data which you are free to use:\n",
    "\n",
    " - [Yahoo Finance API Specification](https://www.yahoofinanceapi.com/)\n",
    " - [Polygon Financial Market Data Platform](https://polygon.io/)\n",
    " - [TradingView](https://www.tradingview.com/rest-api-spec/)\n",
    " - [Quandl](https://data.nasdaq.com/).\n",
    " \n",
    "Data contains follwoing information:\n",
    "\n",
    " - Open\n",
    " - High\n",
    " - Low\n",
    " - Close\n",
    " - Adjusted Close\n",
    " - Volume"
   ]
  },
  {
   "cell_type": "markdown",
   "metadata": {},
   "source": [
    "# Benchmark Model"
   ]
  },
  {
   "cell_type": "markdown",
   "metadata": {},
   "source": [
    "Model bencmark will be done against real stock data by mesuring error from real stock value and predicted value."
   ]
  },
  {
   "cell_type": "markdown",
   "metadata": {},
   "source": [
    "# Evaluation Metrics"
   ]
  },
  {
   "cell_type": "markdown",
   "metadata": {},
   "source": [
    "As evaluation metric Mean Squared Error will be used."
   ]
  },
  {
   "cell_type": "markdown",
   "metadata": {},
   "source": [
    "# Project Design"
   ]
  },
  {
   "cell_type": "markdown",
   "metadata": {},
   "source": [
    "SageMaker will be used this project. For model development on of the SageMaker buil-in algorithms will be used.\n",
    "\n",
    "Project stages:\n",
    "\n",
    " - Feature engenering\n",
    " - Training model\n",
    " - Deploy endpoint\n"
   ]
  }
 ],
 "metadata": {
  "kernelspec": {
   "display_name": "Python 3 (ipykernel)",
   "language": "python",
   "name": "python3"
  },
  "language_info": {
   "codemirror_mode": {
    "name": "ipython",
    "version": 3
   },
   "file_extension": ".py",
   "mimetype": "text/x-python",
   "name": "python",
   "nbconvert_exporter": "python",
   "pygments_lexer": "ipython3",
   "version": "3.8.5"
  }
 },
 "nbformat": 4,
 "nbformat_minor": 4
}
