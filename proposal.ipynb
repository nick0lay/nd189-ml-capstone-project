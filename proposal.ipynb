{
 "cells": [
  {
   "cell_type": "markdown",
   "metadata": {},
   "source": [
    "# Domain Background"
   ]
  },
  {
   "cell_type": "markdown",
   "metadata": {},
   "source": [
    "Investment firms, hedge funds and even individuals have been using financial models to better understand market behavior and make profitable investments and trades. A wealth of information is available in the form of historical stock prices and company performance data, suitable for machine learning algorithms to process. Accurate prediction of stock market returns is a very challenging task due to volatile and non-linear nature of the financial stock markets. Since a lot of investors use AI models to work with stocks it's become very important to predict price for making decisison about future investment or porfolio rebalancing. For those who use Reinforcement Learning it's also quite important since agent should know when to hold or sell/buy new assets to expect better reword for the action in future.\n",
    "\n",
    "Academic research prove that stock closing price can be predicted with ML algoritm. According to this research prediction is quite accurate for some stocks. Please check links of this research below. Even though that alogorithms poove to be working we still should keep in mind, that they are undable to predict future and sometime unexpected events might happend. For example natural disasters, issuew in supply chain, etc. can lead to stock price go down unexpectedly. Hence it's good to use different sources to take a good decision, because ML algorithm in most cases can find patterns in stock behavior rather than predict real stock price. \n",
    "\n",
    "Common algorithms used to predict stock:\n",
    "\n",
    " - RNN\n",
    " - LSTM\n",
    " - Random Forest\n",
    " - Transformers\n",
    " \n",
    "### Reserches\n",
    " - [Stock Closing Price Prediction using Machine Learning Techniques](https://www.sciencedirect.com/science/article/pii/S1877050920307924)\n",
    " - [A Data Organization Method for LSTM and Transformer When Predicting Chinese Banking Stock Prices](https://www.hindawi.com/journals/ddns/2022/7119678/)\n"
   ]
  },
  {
   "cell_type": "markdown",
   "metadata": {},
   "source": [
    "# Problem Statement"
   ]
  },
  {
   "cell_type": "markdown",
   "metadata": {},
   "source": [
    "Build stock price predictor which will use historical data to predict stock price for given date. It's quite clear for me that it's impossible to predict future sock movement, becouse it depends on a lot of different factors. For example:\n",
    "\n",
    " - Social activity\n",
    " - Company performance\n",
    " - Natural desisters\n",
    " - Etc.\n",
    " \n",
    "Some of this factors can be predicted from experience but some of them still hard to predict, like natural desister. Hence the main goal of this project try to build predictor which try to find patterns in the past stock movement and help with decision making process together with some other information.\n",
    " \n",
    "Ideally there should be a lot of such type of predictors whic use different types of informations, for example market news or satellite images, etc. Which combined in ensamble model for better prediction, but this require a lot of time and efforts to be developed. Hence in this project we try to reduce scope and build small part of bigger system and did small research if it worth to make this type of predictions at all."
   ]
  },
  {
   "cell_type": "markdown",
   "metadata": {},
   "source": [
    "# Solution Statement"
   ]
  },
  {
   "cell_type": "markdown",
   "metadata": {
    "tags": []
   },
   "source": [
    "Here we have regression problem since we try to predict stock price. According to different researches such ML architectures as RNN and Transformers perform better than for example Random Forest (XGBoost). It's looks logical since stock price is time series and RNN and Transformers works good with this type of data. For this type of porject Transformers will be used since RNN networks has some following issues comparing to Transformers architectures.\n",
    "\n",
    "RNN arcitecture issues:\n",
    " - parallel computing is difficult to implement;\n",
    " - for long sequences of data there is loss of information;\n",
    " - problem with vaninshing gradient.\n",
    " \n",
    "To test the idea 2 random stocks from well known companies (for example: Apple, Google, Facebook etc.) which it part of S&P 500 index will be selected. \n",
    "\n",
    "To solve this problem different techical inicators will be used.\n",
    "\n",
    "Technical indicators:\n",
    "\n",
    " - Simple moving average (SMA)\n",
    " - Exponential moving average (EMA)\n",
    " - Moving Average Convergence Divergence (MACD)\n",
    " - Bollinger band\n",
    " - Momentum\n",
    " - Trading volume\n",
    "\n",
    "### Technical inidcator calculation\n",
    "EMA and MA will be calculated for 3, 8 and 21 days \n",
    "\n",
    "#### Simple moving average\n",
    "\\begin{align}\n",
    "&SMA = \\frac{ A_1 + A_2 + \\dotso + A_n }{ n } \\\\ &\\textbf{where:} \\\\ &A = \\text{Average in period } n \\\\ &n = \\text{Number of time periods} \\\\\n",
    "\\end{align}\n",
    "\n",
    "#### Exponential moving average\n",
    "\\begin{align}\n",
    "&EMA_t = \\left [ V_t \\times \\left ( \\frac{ s }{ 1 + d } \\right ) \\right ] + EMA_y \\times \\left [ 1 - \\left ( \\frac { s }{ 1 + d} \\right ) \\right ] \\\\ &\\textbf{where:}\\\\ &EMA_t = \\text{EMA today} \\\\ &V_t = \\text{Value today} \\\\ &EMA_y = \\text{EMA yesterday} \\\\ &s = \\text{Smoothing} \\\\ &d = \\text{Number of days} \\\\\n",
    "\\end{align} \n",
    "\n",
    "#### Moving Average Convergence Divergence\n",
    "\\begin{align}\n",
    "&\\text{BOLU} = \\text {MA} ( \\text {TP}, n ) + m * \\sigma [ \\text {TP}, n ] \\\\ &\\text{BOLD} = \\text {MA} ( \\text {TP}, n ) - m * \\sigma [ \\text {TP}, n ] \\\\ &\\textbf{where:} \\\\ &\\text {BOLU} = \\text {Upper Bollinger Band} \\\\ &\\text {BOLD} = \\text {Lower Bollinger Band} \\\\ &\\text {MA} = \\text {Moving average} \\\\ &\\text {TP (typical price)} = ( \\text{High} + \\text{Low} + \\text{Close} ) \\div 3 \\\\ &n = \\text {Number of days in smoothing period} \\\\ &m = \\text {Number of standard deviations} \\\\ &\\sigma [ \\text {TP}, n ] = \\text {Standard Deviation over last } n \\text{ periods of TP} \\\\\n",
    "\\end{align} \n",
    "\n",
    "#### Momentum\n",
    "\\begin{align}\n",
    "&\\text{Momentum}=V-Vx\\\\ &\\textbf{where:}\\\\ &V = \\text{Latest price}\\\\ &Vx = \\text{Closing price}\\\\ &x = \\text{Number of days ago}\n",
    "\\end{align} "
   ]
  },
  {
   "cell_type": "markdown",
   "metadata": {},
   "source": [
    "# Datasets and Inputs"
   ]
  },
  {
   "cell_type": "markdown",
   "metadata": {},
   "source": [
    "To train model historical data for last 5 years will be used if it's available.\n",
    "\n",
    "There are several open sources for historical stock price data which you are free to use:\n",
    "\n",
    " - [Yahoo Finance API Specification](https://www.yahoofinanceapi.com/)\n",
    " - [Polygon Financial Market Data Platform](https://polygon.io/)\n",
    " - [TradingView](https://www.tradingview.com/rest-api-spec/)\n",
    " - [Quandl](https://data.nasdaq.com/).\n",
    "\n",
    "Actual data will be loaded from Yahoo Finance. And has following structure:\n",
    "\n",
    " - Open\n",
    " - High\n",
    " - Low\n",
    " - Close\n",
    " - Adj Close\n",
    " - Volume\n",
    " - company_name\n",
    " - Date\n",
    " \n",
    "For feature engineering following data will be used:\n",
    " - Adjusted Close\n",
    " - Simple moving average (SMA)\n",
    " - Exponential moving average (EMA)\n",
    " - Moving Average Convergence Divergence (MACD)\n",
    " - Bollinger band\n",
    " - Momentum\n",
    " - Trading volume\n",
    " - Price date\n",
    "\n",
    "Price date will be splitted further to month, year, day of month, day of year.\n",
    "\n",
    "Data will be separated to 3 sets:\n",
    " - train\n",
    " - validation\n",
    " - test\n",
    "\n",
    "Model will be deployed as SageMaker endpoint."
   ]
  },
  {
   "cell_type": "markdown",
   "metadata": {},
   "source": [
    "# Benchmark Model"
   ]
  },
  {
   "cell_type": "markdown",
   "metadata": {},
   "source": [
    "To measure model performance mean squared error (MSE) will be used, better model should have lower error. When best model selected it will be tested against real stock data with measuring error. To check how well it perform we have to check result against similar models, for that reason similar researches was found. Please check links below.\n",
    "\n",
    "According to read researches it's possible to acheive quite good accuracy on some markets. For this project try to acheived MSE <= 0.002 for markets with low volatility since markets with high volatility more risky and difficult to predic.\n",
    "\n",
    "### Research articles\n",
    "\n",
    " - [Stock Price Prediction Mobile Application](https://devpost.com/software/stock-portfolio-allocation)\n",
    " - [Stock Market Analysis + Prediction using LSTM](https://www.kaggle.com/code/faressayah/stock-market-analysis-prediction-using-lstm/notebook)\n",
    " - [Stock predictions with state-of-the-art Transformer and Time Embeddings](https://towardsdatascience.com/stock-predictions-with-state-of-the-art-transformer-and-time-embeddings-3a4485237de6#:~:text=A%20Transformer%20is%20a%20neural,and%20Multi%2DHead%20Attention%20layer.)\n"
   ]
  },
  {
   "cell_type": "markdown",
   "metadata": {},
   "source": [
    "# Evaluation Metrics"
   ]
  },
  {
   "cell_type": "markdown",
   "metadata": {},
   "source": [
    "As evaluation metric Mean Squared Error will be used."
   ]
  },
  {
   "cell_type": "markdown",
   "metadata": {},
   "source": [
    "# Project Design"
   ]
  },
  {
   "cell_type": "markdown",
   "metadata": {},
   "source": [
    "SageMaker will be used this project. For model development on of the SageMaker buil-in algorithms will be used.\n",
    "\n",
    "Project stages:\n",
    "\n",
    " - Feature engenering\n",
    " - Training model\n",
    " - Deploy endpoint\n"
   ]
  }
 ],
 "metadata": {
  "kernelspec": {
   "display_name": "Python 3 (ipykernel)",
   "language": "python",
   "name": "python3"
  },
  "language_info": {
   "codemirror_mode": {
    "name": "ipython",
    "version": 3
   },
   "file_extension": ".py",
   "mimetype": "text/x-python",
   "name": "python",
   "nbconvert_exporter": "python",
   "pygments_lexer": "ipython3",
   "version": "3.8.5"
  }
 },
 "nbformat": 4,
 "nbformat_minor": 4
}
